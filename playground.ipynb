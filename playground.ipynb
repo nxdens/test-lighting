{
 "cells": [
  {
   "cell_type": "code",
   "execution_count": 2,
   "metadata": {},
   "outputs": [
    {
     "name": "stdout",
     "output_type": "stream",
     "text": [
      "C:\\Users\\LIW82\\Lab Work\\test-lighting\\./config\n",
      "s\n"
     ]
    }
   ],
   "source": [
    "import os\n",
    "from project.misc.utils import ROOT_DIR\n",
    "a = \"./config\"\n",
    "print(os.path.join(ROOT_DIR,a))\n",
    "a = None\n",
    "if a:\n",
    "    print(\"asdsad\")\n",
    "else:\n",
    "    print(\"s\")"
   ]
  },
  {
   "cell_type": "code",
   "execution_count": 3,
   "metadata": {},
   "outputs": [
    {
     "data": {
      "text/html": [
       "<div>\n",
       "<style scoped>\n",
       "    .dataframe tbody tr th:only-of-type {\n",
       "        vertical-align: middle;\n",
       "    }\n",
       "\n",
       "    .dataframe tbody tr th {\n",
       "        vertical-align: top;\n",
       "    }\n",
       "\n",
       "    .dataframe thead th {\n",
       "        text-align: right;\n",
       "    }\n",
       "</style>\n",
       "<table border=\"1\" class=\"dataframe\">\n",
       "  <thead>\n",
       "    <tr style=\"text-align: right;\">\n",
       "      <th></th>\n",
       "      <th>A</th>\n",
       "      <th>B</th>\n",
       "      <th>C</th>\n",
       "      <th>D</th>\n",
       "      <th>F</th>\n",
       "    </tr>\n",
       "  </thead>\n",
       "  <tbody>\n",
       "    <tr>\n",
       "      <th>0</th>\n",
       "      <td>A0</td>\n",
       "      <td>B0</td>\n",
       "      <td>C0</td>\n",
       "      <td>D0</td>\n",
       "      <td>NaN</td>\n",
       "    </tr>\n",
       "    <tr>\n",
       "      <th>1</th>\n",
       "      <td>A1</td>\n",
       "      <td>B1</td>\n",
       "      <td>C1</td>\n",
       "      <td>D1</td>\n",
       "      <td>NaN</td>\n",
       "    </tr>\n",
       "    <tr>\n",
       "      <th>2</th>\n",
       "      <td>A2</td>\n",
       "      <td>B2</td>\n",
       "      <td>C2</td>\n",
       "      <td>D2</td>\n",
       "      <td>NaN</td>\n",
       "    </tr>\n",
       "    <tr>\n",
       "      <th>3</th>\n",
       "      <td>A3</td>\n",
       "      <td>B3</td>\n",
       "      <td>C3</td>\n",
       "      <td>D3</td>\n",
       "      <td>NaN</td>\n",
       "    </tr>\n",
       "    <tr>\n",
       "      <th>0</th>\n",
       "      <td>A4</td>\n",
       "      <td>B4</td>\n",
       "      <td>C4</td>\n",
       "      <td>D4</td>\n",
       "      <td>NaN</td>\n",
       "    </tr>\n",
       "    <tr>\n",
       "      <th>1</th>\n",
       "      <td>A5</td>\n",
       "      <td>B5</td>\n",
       "      <td>C5</td>\n",
       "      <td>D5</td>\n",
       "      <td>NaN</td>\n",
       "    </tr>\n",
       "    <tr>\n",
       "      <th>2</th>\n",
       "      <td>A6</td>\n",
       "      <td>B6</td>\n",
       "      <td>C6</td>\n",
       "      <td>D6</td>\n",
       "      <td>NaN</td>\n",
       "    </tr>\n",
       "    <tr>\n",
       "      <th>3</th>\n",
       "      <td>A7</td>\n",
       "      <td>B7</td>\n",
       "      <td>C7</td>\n",
       "      <td>D7</td>\n",
       "      <td>NaN</td>\n",
       "    </tr>\n",
       "    <tr>\n",
       "      <th>0</th>\n",
       "      <td>A8</td>\n",
       "      <td>B8</td>\n",
       "      <td>C8</td>\n",
       "      <td>NaN</td>\n",
       "      <td>D8</td>\n",
       "    </tr>\n",
       "    <tr>\n",
       "      <th>1</th>\n",
       "      <td>A9</td>\n",
       "      <td>B9</td>\n",
       "      <td>C9</td>\n",
       "      <td>NaN</td>\n",
       "      <td>D9</td>\n",
       "    </tr>\n",
       "    <tr>\n",
       "      <th>2</th>\n",
       "      <td>A10</td>\n",
       "      <td>B10</td>\n",
       "      <td>C10</td>\n",
       "      <td>NaN</td>\n",
       "      <td>D10</td>\n",
       "    </tr>\n",
       "    <tr>\n",
       "      <th>3</th>\n",
       "      <td>A11</td>\n",
       "      <td>B11</td>\n",
       "      <td>C11</td>\n",
       "      <td>NaN</td>\n",
       "      <td>D11</td>\n",
       "    </tr>\n",
       "  </tbody>\n",
       "</table>\n",
       "</div>"
      ],
      "text/plain": [
       "     A    B    C    D    F\n",
       "0   A0   B0   C0   D0  NaN\n",
       "1   A1   B1   C1   D1  NaN\n",
       "2   A2   B2   C2   D2  NaN\n",
       "3   A3   B3   C3   D3  NaN\n",
       "0   A4   B4   C4   D4  NaN\n",
       "1   A5   B5   C5   D5  NaN\n",
       "2   A6   B6   C6   D6  NaN\n",
       "3   A7   B7   C7   D7  NaN\n",
       "0   A8   B8   C8  NaN   D8\n",
       "1   A9   B9   C9  NaN   D9\n",
       "2  A10  B10  C10  NaN  D10\n",
       "3  A11  B11  C11  NaN  D11"
      ]
     },
     "execution_count": 3,
     "metadata": {},
     "output_type": "execute_result"
    }
   ],
   "source": [
    "import pandas as pd\n",
    "df1 = pd.DataFrame(\n",
    "\n",
    "    {\n",
    "\n",
    "        \"A\": [\"A0\", \"A1\", \"A2\", \"A3\"],\n",
    "\n",
    "        \"B\": [\"B0\", \"B1\", \"B2\", \"B3\"],\n",
    "\n",
    "        \"C\": [\"C0\", \"C1\", \"C2\", \"C3\"],\n",
    "\n",
    "        \"D\": [\"D0\", \"D1\", \"D2\", \"D3\"],\n",
    "\n",
    "    }\n",
    "\n",
    ")\n",
    "\n",
    "\n",
    "\n",
    "df2 = pd.DataFrame(\n",
    "\n",
    "    {\n",
    "\n",
    "        \"A\": [\"A4\", \"A5\", \"A6\", \"A7\"],\n",
    "\n",
    "        \"B\": [\"B4\", \"B5\", \"B6\", \"B7\"],\n",
    "\n",
    "        \"C\": [\"C4\", \"C5\", \"C6\", \"C7\"],\n",
    "\n",
    "        \"D\": [\"D4\", \"D5\", \"D6\", \"D7\"],\n",
    "\n",
    "    }\n",
    "\n",
    ")\n",
    "\n",
    "\n",
    "\n",
    "df3 = pd.DataFrame(\n",
    "\n",
    "    {\n",
    "\n",
    "        \"A\": [\"A8\", \"A9\", \"A10\", \"A11\"],\n",
    "\n",
    "        \"B\": [\"B8\", \"B9\", \"B10\", \"B11\"],\n",
    "\n",
    "        \"C\": [\"C8\", \"C9\", \"C10\", \"C11\"],\n",
    "\n",
    "        \"F\": [\"D8\", \"D9\", \"D10\", \"D11\"],\n",
    "\n",
    "    }\n",
    "\n",
    ")\n",
    "\n",
    "\n",
    "\n",
    "frames = [df1, df2, df3]\n",
    "\n",
    "result = pd.concat(frames)\n",
    "result"
   ]
  },
  {
   "cell_type": "code",
   "execution_count": 4,
   "metadata": {},
   "outputs": [
    {
     "data": {
      "text/plain": [
       "array([['A0', 'B0', 'C0', 'D0', nan],\n",
       "       ['A1', 'B1', 'C1', 'D1', nan],\n",
       "       ['A2', 'B2', 'C2', 'D2', nan],\n",
       "       ['A3', 'B3', 'C3', 'D3', nan],\n",
       "       ['A4', 'B4', 'C4', 'D4', nan],\n",
       "       ['A5', 'B5', 'C5', 'D5', nan],\n",
       "       ['A6', 'B6', 'C6', 'D6', nan],\n",
       "       ['A7', 'B7', 'C7', 'D7', nan],\n",
       "       ['A8', 'B8', 'C8', nan, 'D8'],\n",
       "       ['A9', 'B9', 'C9', nan, 'D9'],\n",
       "       ['A10', 'B10', 'C10', nan, 'D10'],\n",
       "       ['A11', 'B11', 'C11', nan, 'D11']], dtype=object)"
      ]
     },
     "execution_count": 4,
     "metadata": {},
     "output_type": "execute_result"
    }
   ],
   "source": [
    "result.values"
   ]
  },
  {
   "cell_type": "code",
   "execution_count": 6,
   "metadata": {},
   "outputs": [
    {
     "name": "stdout",
     "output_type": "stream",
     "text": [
      "dict_keys(['a'])\n"
     ]
    }
   ],
   "source": [
    "def function(*args,b,**kwargs):\n",
    "    print(kwargs.keys())\n",
    "import os\n",
    "function(a=1,b=1)"
   ]
  },
  {
   "cell_type": "code",
   "execution_count": 9,
   "metadata": {},
   "outputs": [
    {
     "data": {
      "text/plain": [
       "[Subject(Keys: ('dummy', 'input', 'labels'); images: 1),\n",
       " Subject(Keys: ('dummy', 'input', 'labels'); images: 1),\n",
       " Subject(Keys: ('dummy', 'input', 'labels'); images: 1),\n",
       " Subject(Keys: ('dummy', 'input', 'labels'); images: 1),\n",
       " Subject(Keys: ('dummy', 'input', 'labels'); images: 1),\n",
       " Subject(Keys: ('dummy', 'input', 'labels'); images: 1),\n",
       " Subject(Keys: ('dummy', 'input', 'labels'); images: 1),\n",
       " Subject(Keys: ('dummy', 'input', 'labels'); images: 1),\n",
       " Subject(Keys: ('dummy', 'input', 'labels'); images: 1),\n",
       " Subject(Keys: ('dummy', 'input', 'labels'); images: 1)]"
      ]
     },
     "execution_count": 9,
     "metadata": {},
     "output_type": "execute_result"
    }
   ],
   "source": [
    "next(result.iterrows())[1].values\n",
    "import torchio as tio\n",
    "import torch\n",
    "def _get_subjects_list(\n",
    "    data: pd.DataFrame, subject_list: pd.DataFrame\n",
    ") -> list[str, pd.DataFrame]:\n",
    "    # Need to drop na values somewhere before this\n",
    "    subset = data[data[\"A\"].isin(subject_list[\"A\"])]\n",
    "    data_input = subset[[\"B\",\"C\"]].values\n",
    "    data_labels = subset[[\"F\",\"D\"]].values\n",
    "    dummy_image = tio.ScalarImage(tensor=torch.rand(1, 128, 128, 128))\n",
    "    subjects = []\n",
    "    for sub in zip(data_input, data_labels):\n",
    "        subjects.append(\n",
    "            tio.Subject(\n",
    "                {\"dummy\": dummy_image, \"input\": sub[0], \"labels\": sub[1]}\n",
    "            )\n",
    "        )\n",
    "    return subjects\n",
    "_get_subjects_list(result,result.iloc[:10])"
   ]
  },
  {
   "cell_type": "code",
   "execution_count": 10,
   "metadata": {},
   "outputs": [
    {
     "ename": "NameError",
     "evalue": "name '__file__' is not defined",
     "output_type": "error",
     "traceback": [
      "\u001b[1;31m---------------------------------------------------------------------------\u001b[0m",
      "\u001b[1;31mNameError\u001b[0m                                 Traceback (most recent call last)",
      "\u001b[1;32mc:\\Users\\LIW82\\Lab Work\\test-lighting\\playground.ipynb Cell 1\u001b[0m in \u001b[0;36m<module>\u001b[1;34m\u001b[0m\n\u001b[0;32m      <a href='vscode-notebook-cell:/c%3A/Users/LIW82/Lab%20Work/test-lighting/playground.ipynb#ch0000000?line=2'>3</a>\u001b[0m \u001b[39mfrom\u001b[39;00m \u001b[39mproject\u001b[39;00m\u001b[39m.\u001b[39;00m\u001b[39mutils\u001b[39;00m \u001b[39mimport\u001b[39;00m utils\n\u001b[0;32m      <a href='vscode-notebook-cell:/c%3A/Users/LIW82/Lab%20Work/test-lighting/playground.ipynb#ch0000000?line=3'>4</a>\u001b[0m \u001b[39mimport\u001b[39;00m \u001b[39mos\u001b[39;00m\n\u001b[1;32m----> <a href='vscode-notebook-cell:/c%3A/Users/LIW82/Lab%20Work/test-lighting/playground.ipynb#ch0000000?line=4'>5</a>\u001b[0m os\u001b[39m.\u001b[39mpath\u001b[39m.\u001b[39mdirname(\u001b[39m__file__\u001b[39;49m)\n",
      "\u001b[1;31mNameError\u001b[0m: name '__file__' is not defined"
     ]
    }
   ],
   "source": [
    "import torch\n",
    "import pytorch_lightning as pl\n",
    "from project.utils import utils\n",
    "import os\n",
    "os.path.dirname(__file__)"
   ]
  },
  {
   "cell_type": "code",
   "execution_count": 9,
   "metadata": {},
   "outputs": [
    {
     "name": "stdout",
     "output_type": "stream",
     "text": [
      "test\n"
     ]
    },
    {
     "ename": "NameError",
     "evalue": "name '__file__' is not defined",
     "output_type": "error",
     "traceback": [
      "\u001b[1;31m---------------------------------------------------------------------------\u001b[0m",
      "\u001b[1;31mNameError\u001b[0m                                 Traceback (most recent call last)",
      "\u001b[1;32mc:\\Users\\LIW82\\Lab Work\\test-lighting\\playground.ipynb Cell 2\u001b[0m in \u001b[0;36m<module>\u001b[1;34m\u001b[0m\n\u001b[0;32m      <a href='vscode-notebook-cell:/c%3A/Users/LIW82/Lab%20Work/test-lighting/playground.ipynb#ch0000001?line=0'>1</a>\u001b[0m utils\u001b[39m.\u001b[39mtest_func()\n\u001b[1;32m----> <a href='vscode-notebook-cell:/c%3A/Users/LIW82/Lab%20Work/test-lighting/playground.ipynb#ch0000001?line=1'>2</a>\u001b[0m os\u001b[39m.\u001b[39mpath\u001b[39m.\u001b[39mdirname(\u001b[39m__file__\u001b[39;49m)\n",
      "\u001b[1;31mNameError\u001b[0m: name '__file__' is not defined"
     ]
    }
   ],
   "source": [
    "utils.test_func()\n",
    "os.path.dirname(__file__)"
   ]
  },
  {
   "cell_type": "code",
   "execution_count": null,
   "metadata": {},
   "outputs": [],
   "source": [
    "os.path.dirname(__file__)"
   ]
  }
 ],
 "metadata": {
  "kernelspec": {
   "display_name": "Python 3.9.7 ('RADIO')",
   "language": "python",
   "name": "python3"
  },
  "language_info": {
   "codemirror_mode": {
    "name": "ipython",
    "version": 3
   },
   "file_extension": ".py",
   "mimetype": "text/x-python",
   "name": "python",
   "nbconvert_exporter": "python",
   "pygments_lexer": "ipython3",
   "version": "3.9.7"
  },
  "orig_nbformat": 4,
  "vscode": {
   "interpreter": {
    "hash": "c8e485f18888a4d3c12410e5aaef0b45a3bc637e01d0ace44e752db60592173c"
   }
  }
 },
 "nbformat": 4,
 "nbformat_minor": 2
}
